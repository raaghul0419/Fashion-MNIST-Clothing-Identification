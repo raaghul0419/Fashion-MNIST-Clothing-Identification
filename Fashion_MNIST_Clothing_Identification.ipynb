{
  "nbformat": 4,
  "nbformat_minor": 0,
  "metadata": {
    "colab": {
      "name": "Fashion-MNIST Clothing Identification.ipynb",
      "provenance": [],
      "collapsed_sections": []
    },
    "kernelspec": {
      "name": "python3",
      "display_name": "Python 3"
    },
    "language_info": {
      "name": "python"
    },
    "accelerator": "GPU"
  },
  "cells": [
    {
      "cell_type": "code",
      "metadata": {
        "id": "BAsOMBheNJ1B"
      },
      "source": [
        "    # Importing necessary libraries\n",
        "\n",
        "import pandas as pd\n",
        "import numpy as np\n",
        "import matplotlib.pyplot as plt\n",
        "import seaborn as sns\n",
        "%matplotlib inline\n",
        "from sklearn.metrics import accuracy_score, confusion_matrix\n",
        "import tensorflow as tf"
      ],
      "execution_count": null,
      "outputs": []
    },
    {
      "cell_type": "code",
      "metadata": {
        "id": "D3L2f6N_Nwbq",
        "colab": {
          "base_uri": "https://localhost:8080/"
        },
        "outputId": "da0cec78-35de-49bf-ab61-de0e8c0a7e1a"
      },
      "source": [
        "    # Loading the dataset\n",
        "\n",
        "(X_train, y_train), (X_test, y_test) = tf.keras.datasets.fashion_mnist.load_data()\n",
        "    \n",
        "    # Getting the Shape of Training and Test Set\n",
        "\n",
        "print('Training Set Shape: ',X_train.shape,' , ',y_train.shape)\n",
        "print('Test Set Shape: ',X_test.shape,' , ',y_test.shape)"
      ],
      "execution_count": null,
      "outputs": [
        {
          "output_type": "stream",
          "name": "stdout",
          "text": [
            "Downloading data from https://storage.googleapis.com/tensorflow/tf-keras-datasets/train-labels-idx1-ubyte.gz\n",
            "32768/29515 [=================================] - 0s 0us/step\n",
            "40960/29515 [=========================================] - 0s 0us/step\n",
            "Downloading data from https://storage.googleapis.com/tensorflow/tf-keras-datasets/train-images-idx3-ubyte.gz\n",
            "26427392/26421880 [==============================] - 0s 0us/step\n",
            "26435584/26421880 [==============================] - 0s 0us/step\n",
            "Downloading data from https://storage.googleapis.com/tensorflow/tf-keras-datasets/t10k-labels-idx1-ubyte.gz\n",
            "16384/5148 [===============================================================================================] - 0s 0us/step\n",
            "Downloading data from https://storage.googleapis.com/tensorflow/tf-keras-datasets/t10k-images-idx3-ubyte.gz\n",
            "4423680/4422102 [==============================] - 0s 0us/step\n",
            "4431872/4422102 [==============================] - 0s 0us/step\n",
            "Training Set Shape:  (60000, 28, 28)  ,  (60000,)\n",
            "Test Set Shape:  (10000, 28, 28)  ,  (10000,)\n"
          ]
        }
      ]
    },
    {
      "cell_type": "code",
      "metadata": {
        "id": "mt0E80O1OORC"
      },
      "source": [
        "    # Creating a list of class labels\n",
        "\n",
        "labels = ['T-shirt/top','Trouser','Pullover','Dress','Coat','Sandal','Shirt','Sneaker','Bag','Ankle boot']"
      ],
      "execution_count": null,
      "outputs": []
    },
    {
      "cell_type": "code",
      "metadata": {
        "colab": {
          "base_uri": "https://localhost:8080/",
          "height": 291
        },
        "id": "3gPUWiywOyUY",
        "outputId": "2ec337fd-36f1-40f0-ed63-4334d0136943"
      },
      "source": [
        "    # Visualizing some training set images\n",
        "        # Since the image is 28x28, cv2_imshow will visualize the image in its original size (cv2_imshow() will not expand the image)\n",
        "        # So matplotlib is used to visualize\n",
        "\n",
        "plt.figure(figsize=(10,5))\n",
        "for i in range(10):\n",
        "  plt.subplot(2,5,i+1)\n",
        "  plt.imshow(X_train[i], cmap='gray')\n",
        "  plt.title(labels[y_train[i]])\n",
        "  plt.axis('off')\n",
        "plt.show()"
      ],
      "execution_count": null,
      "outputs": [
        {
          "output_type": "display_data",
          "data": {
            "image/png": "[encoded data removed]",
            "text/plain": [
              "<Figure size 720x360 with 10 Axes>"
            ]
          },
          "metadata": {
            "needs_background": "light"
          }
        }
      ]
    },
    {
      "cell_type": "code",
      "metadata": {
        "colab": {
          "base_uri": "https://localhost:8080/"
        },
        "id": "SOHyNIgQYd44",
        "outputId": "ec1554c5-4e8b-4da1-e94d-5693ceb6e5e1"
      },
      "source": [
        "    # Getting the dimension and shape of the training set\n",
        "\n",
        "print('Dimension: ',X_train.ndim,'\\n')\n",
        "print('Shape: ',X_train.shape)"
      ],
      "execution_count": null,
      "outputs": [
        {
          "output_type": "stream",
          "name": "stdout",
          "text": [
            "Dimension:  3 \n",
            "\n",
            "Shape:  (60000, 28, 28)\n"
          ]
        }
      ]
    },
    {
      "cell_type": "code",
      "metadata": {
        "id": "E_Qmxv2MYkM7",
        "colab": {
          "base_uri": "https://localhost:8080/"
        },
        "outputId": "99df0e7f-3de9-4ea9-ef33-443943b3cd10"
      },
      "source": [
        "    # Inserting an additional dimension to the dataset to have a single channel\n",
        "\n",
        "X_train = np.expand_dims(X_train,-1)\n",
        "X_test = np.expand_dims(X_test,-1)\n",
        "\n",
        "print('Training Set Shape: ',X_train.shape)\n",
        "print('Test Set Shape: ',X_test.shape)"
      ],
      "execution_count": null,
      "outputs": [
        {
          "output_type": "stream",
          "name": "stdout",
          "text": [
            "Training Set Shape:  (60000, 28, 28, 1)\n",
            "Test Set Shape:  (10000, 28, 28, 1)\n"
          ]
        }
      ]
    },
    {
      "cell_type": "code",
      "metadata": {
        "id": "OwBe9DySF9Ry"
      },
      "source": [
        "    # Normalizing the data\n",
        "        # Initially, the data was in the range (0 - 255)\n",
        "        # Now the scaling the data to range (0 - 1) \n",
        "\n",
        "X_train = X_train/255\n",
        "X_test = X_test/255"
      ],
      "execution_count": null,
      "outputs": []
    },
    {
      "cell_type": "code",
      "metadata": {
        "id": "NBytSK2pWjGE"
      },
      "source": [
        "    # Building a CNN Model with two Convolutional Layer\n",
        "\n",
        "model = tf.keras.Sequential([\n",
        "    tf.keras.layers.Conv2D(32, (3,3),activation='relu', input_shape=(28,28,1)),\n",
        "    tf.keras.layers.MaxPooling2D(),\n",
        "    tf.keras.layers.Conv2D(64, (3,3),activation='relu', input_shape=(28,28,1)),\n",
        "    tf.keras.layers.MaxPooling2D(),\n",
        "    tf.keras.layers.Flatten(),\n",
        "    tf.keras.layers.Dense(128, activation='relu'),\n",
        "    tf.keras.layers.Dense(256, activation='relu'),\n",
        "    tf.keras.layers.Dense(256, activation='relu'),\n",
        "    tf.keras.layers.Dense(128, activation='relu'),\n",
        "    tf.keras.layers.Dense(10, activation = 'softmax')\n",
        "])"
      ],
      "execution_count": null,
      "outputs": []
    },
    {
      "cell_type": "code",
      "metadata": {
        "id": "gypuUS70W7Fk"
      },
      "source": [
        "    # Compiling the Model\n",
        "\n",
        "model.compile(optimizer='adam',\n",
        "              loss='sparse_categorical_crossentropy',     # Multiclass classification\n",
        "              metrics=['accuracy'])"
      ],
      "execution_count": null,
      "outputs": []
    },
    {
      "cell_type": "code",
      "metadata": {
        "id": "63EZDJonW-jK",
        "colab": {
          "base_uri": "https://localhost:8080/"
        },
        "outputId": "b2cb8764-85d0-46f7-c15e-934c318ee86a"
      },
      "source": [
        "    # Fitting the data to the Model\n",
        "\n",
        "history = model.fit(X_train, y_train, epochs=40)"
      ],
      "execution_count": null,
      "outputs": [
        {
          "output_type": "stream",
          "name": "stdout",
          "text": [
            "Epoch 1/40\n",
            "1875/1875 [==============================] - 25s 6ms/step - loss: 0.4736 - accuracy: 0.8233\n",
            "Epoch 2/40\n",
            "1875/1875 [==============================] - 12s 6ms/step - loss: 0.3022 - accuracy: 0.8892\n",
            "Epoch 3/40\n",
            "1875/1875 [==============================] - 12s 6ms/step - loss: 0.2580 - accuracy: 0.9056\n",
            "Epoch 4/40\n",
            "1875/1875 [==============================] - 12s 6ms/step - loss: 0.2262 - accuracy: 0.9158\n",
            "Epoch 5/40\n",
            "1875/1875 [==============================] - 12s 6ms/step - loss: 0.2003 - accuracy: 0.9262\n",
            "Epoch 6/40\n",
            "1875/1875 [==============================] - 12s 6ms/step - loss: 0.1832 - accuracy: 0.9325\n",
            "Epoch 7/40\n",
            "1875/1875 [==============================] - 12s 6ms/step - loss: 0.1640 - accuracy: 0.9392\n",
            "Epoch 8/40\n",
            "1875/1875 [==============================] - 12s 6ms/step - loss: 0.1507 - accuracy: 0.9439\n",
            "Epoch 9/40\n",
            "1875/1875 [==============================] - 12s 6ms/step - loss: 0.1356 - accuracy: 0.9497\n",
            "Epoch 10/40\n",
            "1875/1875 [==============================] - 12s 6ms/step - loss: 0.1258 - accuracy: 0.9530\n",
            "Epoch 11/40\n",
            "1875/1875 [==============================] - 12s 6ms/step - loss: 0.1155 - accuracy: 0.9579\n",
            "Epoch 12/40\n",
            "1875/1875 [==============================] - 12s 6ms/step - loss: 0.1039 - accuracy: 0.9613\n",
            "Epoch 13/40\n",
            "1875/1875 [==============================] - 12s 6ms/step - loss: 0.0976 - accuracy: 0.9642\n",
            "Epoch 14/40\n",
            "1875/1875 [==============================] - 12s 6ms/step - loss: 0.0894 - accuracy: 0.9678\n",
            "Epoch 15/40\n",
            "1875/1875 [==============================] - 12s 6ms/step - loss: 0.0830 - accuracy: 0.9692\n",
            "Epoch 16/40\n",
            "1875/1875 [==============================] - 12s 6ms/step - loss: 0.0785 - accuracy: 0.9710\n",
            "Epoch 17/40\n",
            "1875/1875 [==============================] - 12s 6ms/step - loss: 0.0716 - accuracy: 0.9738\n",
            "Epoch 18/40\n",
            "1875/1875 [==============================] - 12s 6ms/step - loss: 0.0680 - accuracy: 0.9748\n",
            "Epoch 19/40\n",
            "1875/1875 [==============================] - 12s 6ms/step - loss: 0.0636 - accuracy: 0.9768\n",
            "Epoch 20/40\n",
            "1875/1875 [==============================] - 12s 6ms/step - loss: 0.0589 - accuracy: 0.9784\n",
            "Epoch 21/40\n",
            "1875/1875 [==============================] - 12s 6ms/step - loss: 0.0576 - accuracy: 0.9790\n",
            "Epoch 22/40\n",
            "1875/1875 [==============================] - 12s 6ms/step - loss: 0.0541 - accuracy: 0.9810\n",
            "Epoch 23/40\n",
            "1875/1875 [==============================] - 12s 6ms/step - loss: 0.0515 - accuracy: 0.9816\n",
            "Epoch 24/40\n",
            "1875/1875 [==============================] - 12s 6ms/step - loss: 0.0504 - accuracy: 0.9825\n",
            "Epoch 25/40\n",
            "1875/1875 [==============================] - 12s 6ms/step - loss: 0.0470 - accuracy: 0.9832\n",
            "Epoch 26/40\n",
            "1875/1875 [==============================] - 12s 6ms/step - loss: 0.0417 - accuracy: 0.9845\n",
            "Epoch 27/40\n",
            "1875/1875 [==============================] - 12s 6ms/step - loss: 0.0423 - accuracy: 0.9856\n",
            "Epoch 28/40\n",
            "1875/1875 [==============================] - 12s 6ms/step - loss: 0.0432 - accuracy: 0.9849\n",
            "Epoch 29/40\n",
            "1875/1875 [==============================] - 12s 6ms/step - loss: 0.0377 - accuracy: 0.9868\n",
            "Epoch 30/40\n",
            "1875/1875 [==============================] - 12s 6ms/step - loss: 0.0407 - accuracy: 0.9863\n",
            "Epoch 31/40\n",
            "1875/1875 [==============================] - 12s 6ms/step - loss: 0.0380 - accuracy: 0.9869\n",
            "Epoch 32/40\n",
            "1875/1875 [==============================] - 12s 6ms/step - loss: 0.0342 - accuracy: 0.9887\n",
            "Epoch 33/40\n",
            "1875/1875 [==============================] - 12s 6ms/step - loss: 0.0370 - accuracy: 0.9882\n",
            "Epoch 34/40\n",
            "1875/1875 [==============================] - 12s 6ms/step - loss: 0.0331 - accuracy: 0.9888\n",
            "Epoch 35/40\n",
            "1875/1875 [==============================] - 12s 6ms/step - loss: 0.0318 - accuracy: 0.9893\n",
            "Epoch 36/40\n",
            "1875/1875 [==============================] - 12s 6ms/step - loss: 0.0330 - accuracy: 0.9898\n",
            "Epoch 37/40\n",
            "1875/1875 [==============================] - 12s 6ms/step - loss: 0.0322 - accuracy: 0.9897\n",
            "Epoch 38/40\n",
            "1875/1875 [==============================] - 12s 6ms/step - loss: 0.0318 - accuracy: 0.9898\n",
            "Epoch 39/40\n",
            "1875/1875 [==============================] - 12s 6ms/step - loss: 0.0322 - accuracy: 0.9895\n",
            "Epoch 40/40\n",
            "1875/1875 [==============================] - 12s 6ms/step - loss: 0.0274 - accuracy: 0.9914\n"
          ]
        }
      ]
    },
    {
      "cell_type": "code",
      "metadata": {
        "id": "g02pSCZn1qyT",
        "colab": {
          "base_uri": "https://localhost:8080/"
        },
        "outputId": "7be8a278-50a2-48b3-872e-44c8d20761ab"
      },
      "source": [
        "    # Making prediction on unseen data\n",
        "\n",
        "y_pred = model.predict(X_test) \n",
        "y_pred = np.argmax(y_pred, axis = 1)\n",
        "\n",
        "    # printing the predictions for first ten instances\n",
        "\n",
        "print('Predicted Labels: ',y_pred[:10])\n",
        "print('Actual Labels: ',y_test[:10])"
      ],
      "execution_count": null,
      "outputs": [
        {
          "output_type": "stream",
          "name": "stdout",
          "text": [
            "Predicted Labels:  [9 2 1 1 6 1 2 6 5 7]\n",
            "Actual Labels:  [9 2 1 1 6 1 4 6 5 7]\n"
          ]
        }
      ]
    },
    {
      "cell_type": "code",
      "metadata": {
        "id": "PlJkMKe0bCcs",
        "colab": {
          "base_uri": "https://localhost:8080/",
          "height": 584
        },
        "outputId": "fcf4d979-ba4a-437f-b2d5-6ae8da13f08a"
      },
      "source": [
        "    # Evaluating the Model\n",
        "\n",
        "test_loss, test_accuracy = model.evaluate(X_test, y_test)\n",
        "print('\\nTest Loss: ',test_loss,'\\n')\n",
        "print('Test Accuracy: ',test_accuracy,'\\n')\n",
        "\n",
        "print('Accuracy Score: ',accuracy_score(y_pred,y_test)*100,'%\\n\\n')\n",
        "\n",
        "plt.figure(figsize=(15,7))\n",
        "cm = confusion_matrix(y_test, y_pred)\n",
        "\n",
        "print('Confusion Matrix: ')\n",
        "sns.heatmap(cm, annot = True, xticklabels = labels, yticklabels = labels, fmt = 'd');"
      ],
      "execution_count": null,
      "outputs": [
        {
          "output_type": "stream",
          "name": "stdout",
          "text": [
            "313/313 [==============================] - 2s 4ms/step - loss: 0.7667 - accuracy: 0.9101\n",
            "Test Loss:  0.7666538953781128 \n",
            "\n",
            "Test Accuracy:  0.910099983215332 \n",
            "\n",
            "Accuracy Score:  91.01 %\n",
            "\n",
            "\n",
            "Confusion Matrix: \n"
          ]
        },
        {
          "output_type": "display_data",
          "data": {
            "image/png": "[encoded data removed]",
            "text/plain": [
              "<Figure size 1080x504 with 2 Axes>"
            ]
          },
          "metadata": {
            "needs_background": "light"
          }
        }
      ]
    },
    {
      "cell_type": "code",
      "metadata": {
        "id": "kzZbNQFPbMUC",
        "colab": {
          "base_uri": "https://localhost:8080/"
        },
        "outputId": "cbfcd700-f068-49ac-cb84-af81b4c723e8"
      },
      "source": [
        "    # Summarizing the model\n",
        "\n",
        "model.summary()"
      ],
      "execution_count": null,
      "outputs": [
        {
          "output_type": "stream",
          "name": "stdout",
          "text": [
            "Model: \"sequential\"\n",
            "_________________________________________________________________\n",
            " Layer (type)                Output Shape              Param #   \n",
            "=================================================================\n",
            " conv2d (Conv2D)             (None, 26, 26, 32)        320       \n",
            "                                                                 \n",
            " max_pooling2d (MaxPooling2D  (None, 13, 13, 32)       0         \n",
            " )                                                               \n",
            "                                                                 \n",
            " conv2d_1 (Conv2D)           (None, 11, 11, 64)        18496     \n",
            "                                                                 \n",
            " max_pooling2d_1 (MaxPooling  (None, 5, 5, 64)         0         \n",
            " 2D)                                                             \n",
            "                                                                 \n",
            " flatten (Flatten)           (None, 1600)              0         \n",
            "                                                                 \n",
            " dense (Dense)               (None, 128)               204928    \n",
            "                                                                 \n",
            " dense_1 (Dense)             (None, 256)               33024     \n",
            "                                                                 \n",
            " dense_2 (Dense)             (None, 256)               65792     \n",
            "                                                                 \n",
            " dense_3 (Dense)             (None, 128)               32896     \n",
            "                                                                 \n",
            " dense_4 (Dense)             (None, 10)                1290      \n",
            "                                                                 \n",
            "=================================================================\n",
            "Total params: 356,746\n",
            "Trainable params: 356,746\n",
            "Non-trainable params: 0\n",
            "_________________________________________________________________\n"
          ]
        }
      ]
    }
  ]
}